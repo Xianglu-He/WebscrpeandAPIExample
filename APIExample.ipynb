{
 "cells": [
  {
   "cell_type": "code",
   "execution_count": 1,
   "metadata": {},
   "outputs": [],
   "source": [
    "#Import Packages\n",
    "import requests\n",
    "import urllib\n",
    "import json\n",
    "import mysql.connector"
   ]
  },
  {
   "cell_type": "markdown",
   "metadata": {},
   "source": [
    "# Part 1"
   ]
  },
  {
   "cell_type": "code",
   "execution_count": 2,
   "metadata": {},
   "outputs": [],
   "source": [
    "#Basic url with personal API key\n",
    "url = 'http://www.omdbapi.com/?apikey=3ef88e19'"
   ]
  },
  {
   "cell_type": "code",
   "execution_count": 3,
   "metadata": {},
   "outputs": [],
   "source": [
    "#Put in the title that want to search\n",
    "title = 'blade'\n",
    "final_url = url + '&s=' + title + '&plot=full'"
   ]
  },
  {
   "cell_type": "code",
   "execution_count": 4,
   "metadata": {},
   "outputs": [
    {
     "name": "stdout",
     "output_type": "stream",
     "text": [
      "{\n",
      "  \"Response\": \"True\",\n",
      "  \"Search\": [\n",
      "    {\n",
      "      \"Poster\": \"https://m.media-amazon.com/images/M/MV5BNzQzMzJhZTEtOWM4NS00MTdhLTg0YjgtMjM4MDRkZjUwZDBlXkEyXkFqcGdeQXVyNjU0OTQ0OTY@._V1_SX300.jpg\",\n",
      "      \"Title\": \"Blade Runner\",\n",
      "      \"Type\": \"movie\",\n",
      "      \"Year\": \"1982\",\n",
      "      \"imdbID\": \"tt0083658\"\n",
      "    },\n",
      "    {\n",
      "      \"Poster\": \"https://m.media-amazon.com/images/M/MV5BNzA1Njg4NzYxOV5BMl5BanBnXkFtZTgwODk5NjU3MzI@._V1_SX300.jpg\",\n",
      "      \"Title\": \"Blade Runner 2049\",\n",
      "      \"Type\": \"movie\",\n",
      "      \"Year\": \"2017\",\n",
      "      \"imdbID\": \"tt1856101\"\n",
      "    },\n",
      "    {\n",
      "      \"Poster\": \"https://m.media-amazon.com/images/M/MV5BOTk2NDNjZWQtMGY0Mi00YTY2LWE5MzctMGRhZmNlYzljYTg5XkEyXkFqcGdeQXVyMTAyNjg4NjE0._V1_SX300.jpg\",\n",
      "      \"Title\": \"Blade\",\n",
      "      \"Type\": \"movie\",\n",
      "      \"Year\": \"1998\",\n",
      "      \"imdbID\": \"tt0120611\"\n",
      "    },\n",
      "    {\n",
      "      \"Poster\": \"https://m.media-amazon.com/images/M/MV5BOWVjZTIzNDYtNTBlNC00NTJjLTkzOTEtOTE0MjlhYzI2YTcyXkEyXkFqcGdeQXVyNTAyODkwOQ@@._V1_SX300.jpg\",\n",
      "      \"Title\": \"Blade II\",\n",
      "      \"Type\": \"movie\",\n",
      "      \"Year\": \"2002\",\n",
      "      \"imdbID\": \"tt0187738\"\n",
      "    },\n",
      "    {\n",
      "      \"Poster\": \"https://m.media-amazon.com/images/M/MV5BMjE0Nzg2MzI3MF5BMl5BanBnXkFtZTYwMjExODQ3._V1_SX300.jpg\",\n",
      "      \"Title\": \"Blade: Trinity\",\n",
      "      \"Type\": \"movie\",\n",
      "      \"Year\": \"2004\",\n",
      "      \"imdbID\": \"tt0359013\"\n",
      "    },\n",
      "    {\n",
      "      \"Poster\": \"https://m.media-amazon.com/images/M/MV5BNGY5NWIxMjAtODBjNC00MmZhLTk1ZTAtNGRhYThlOTNjMTQwXkEyXkFqcGdeQXVyNTc1NTQxODI@._V1_SX300.jpg\",\n",
      "      \"Title\": \"Sling Blade\",\n",
      "      \"Type\": \"movie\",\n",
      "      \"Year\": \"1996\",\n",
      "      \"imdbID\": \"tt0117666\"\n",
      "    },\n",
      "    {\n",
      "      \"Poster\": \"https://m.media-amazon.com/images/M/MV5BMTk0MjgxOTQ5MF5BMl5BanBnXkFtZTgwODA3NTUwNjE@._V1_SX300.jpg\",\n",
      "      \"Title\": \"Dragon Blade\",\n",
      "      \"Type\": \"movie\",\n",
      "      \"Year\": \"2015\",\n",
      "      \"imdbID\": \"tt3672840\"\n",
      "    },\n",
      "    {\n",
      "      \"Poster\": \"https://m.media-amazon.com/images/M/MV5BYzIwYmJlMjktMzJiMy00YmQzLThmNWYtNWY3NGViZjc4MzYwXkEyXkFqcGdeQXVyNDQxNjcxNQ@@._V1_SX300.jpg\",\n",
      "      \"Title\": \"Blade of the Immortal\",\n",
      "      \"Type\": \"movie\",\n",
      "      \"Year\": \"2017\",\n",
      "      \"imdbID\": \"tt5084170\"\n",
      "    },\n",
      "    {\n",
      "      \"Poster\": \"https://m.media-amazon.com/images/M/MV5BNjZhMTNmMTItNmU4Mi00YTdkLWFkZWUtOGExNTQ3MGRiYWYyXkEyXkFqcGdeQXVyNzI1NzMxNzM@._V1_SX300.jpg\",\n",
      "      \"Title\": \"Shinobi: Heart Under Blade\",\n",
      "      \"Type\": \"movie\",\n",
      "      \"Year\": \"2005\",\n",
      "      \"imdbID\": \"tt0475723\"\n",
      "    },\n",
      "    {\n",
      "      \"Poster\": \"https://m.media-amazon.com/images/M/MV5BZGNiNmNiMTctMDI4OS00OWYxLWE4ZWEtZjFkZjU4ZmY5YzEyXkEyXkFqcGdeQXVyMzgxODM4NjM@._V1_SX300.jpg\",\n",
      "      \"Title\": \"Blade Runner: Black Out 2022\",\n",
      "      \"Type\": \"movie\",\n",
      "      \"Year\": \"2017\",\n",
      "      \"imdbID\": \"tt7428594\"\n",
      "    }\n",
      "  ],\n",
      "  \"totalResults\": \"228\"\n",
      "}\n"
     ]
    }
   ],
   "source": [
    "#Print the result data in pretty-print JSON format\n",
    "request = requests.get(final_url)\n",
    "data = request.json()\n",
    "imdb_result = json.dumps(data,indent=2,sort_keys=True)\n",
    "print(imdb_result)"
   ]
  },
  {
   "cell_type": "code",
   "execution_count": 5,
   "metadata": {},
   "outputs": [
    {
     "data": {
      "text/plain": [
       "{0: 'tt0083658',\n",
       " 1: 'tt1856101',\n",
       " 2: 'tt0120611',\n",
       " 3: 'tt0187738',\n",
       " 4: 'tt0359013',\n",
       " 5: 'tt0117666',\n",
       " 6: 'tt3672840',\n",
       " 7: 'tt5084170',\n",
       " 8: 'tt0475723',\n",
       " 9: 'tt7428594'}"
      ]
     },
     "execution_count": 5,
     "metadata": {},
     "output_type": "execute_result"
    }
   ],
   "source": [
    "#Iterate the dictionary and find the value if the key equals to imdbID\n",
    "test = {}\n",
    "new_data = list(data.values())[0]\n",
    "\n",
    "for i in range(len(new_data)):\n",
    "    for key, value in new_data[i].items():\n",
    "        if key == 'imdbID':\n",
    "            test[i] = value\n",
    "test"
   ]
  },
  {
   "cell_type": "code",
   "execution_count": 6,
   "metadata": {},
   "outputs": [
    {
     "data": {
      "text/plain": [
       "dict_items([('Title', 'Blade Runner 2049'), ('Year', '2017'), ('imdbID', 'tt1856101'), ('Type', 'movie'), ('Poster', 'https://m.media-amazon.com/images/M/MV5BNzA1Njg4NzYxOV5BMl5BanBnXkFtZTgwODk5NjU3MzI@._V1_SX300.jpg')])"
      ]
     },
     "execution_count": 6,
     "metadata": {},
     "output_type": "execute_result"
    }
   ],
   "source": [
    "new_data[1].items()"
   ]
  },
  {
   "cell_type": "markdown",
   "metadata": {},
   "source": [
    "# Part 2"
   ]
  },
  {
   "cell_type": "markdown",
   "metadata": {},
   "source": []
  },
  {
   "cell_type": "code",
   "execution_count": 7,
   "metadata": {},
   "outputs": [
    {
     "ename": "NameError",
     "evalue": "name 'mydb' is not defined",
     "output_type": "error",
     "traceback": [
      "\u001b[1;31m---------------------------------------------------------------------------\u001b[0m",
      "\u001b[1;31mNameError\u001b[0m                                 Traceback (most recent call last)",
      "\u001b[1;32m<ipython-input-7-24df963feeff>\u001b[0m in \u001b[0;36m<module>\u001b[1;34m\u001b[0m\n\u001b[1;32m----> 1\u001b[1;33m \u001b[0mmydb\u001b[0m\u001b[1;33m.\u001b[0m\u001b[0mclose\u001b[0m\u001b[1;33m(\u001b[0m\u001b[1;33m)\u001b[0m\u001b[1;33m\u001b[0m\u001b[1;33m\u001b[0m\u001b[0m\n\u001b[0m",
      "\u001b[1;31mNameError\u001b[0m: name 'mydb' is not defined"
     ]
    }
   ],
   "source": [
    "mydb.close()"
   ]
  },
  {
   "cell_type": "code",
   "execution_count": 8,
   "metadata": {},
   "outputs": [],
   "source": [
    "mydb = mysql.connector.connect(\n",
    "  host=\"localhost\",\n",
    "  user=\"root\",\n",
    "  passwd=\"0411\"\n",
    ")\n",
    "\n",
    "mycursor = mydb.cursor()\n",
    "\n",
    "mycursor.execute(\"CREATE DATABASE IF NOT EXISTS ucdavis\")\n",
    "\n",
    "mydb.close()\n"
   ]
  },
  {
   "cell_type": "code",
   "execution_count": 9,
   "metadata": {},
   "outputs": [],
   "source": [
    "mydb = mysql.connector.connect(\n",
    "  host=\"localhost\",\n",
    "  user=\"root\",\n",
    "  passwd=\"0411\",\n",
    "  database=\"ucdavis\"\n",
    ")\n",
    "\n",
    "mycursor = mydb.cursor()\n",
    "mycursor.execute(\"CREATE TABLE IF NOT EXISTS omdb_test(imbd_id VARCHAR(255), title VARCHAR(255), year int)\")\n",
    "mydb.close()"
   ]
  },
  {
   "cell_type": "markdown",
   "metadata": {},
   "source": [
    "# Part 3"
   ]
  },
  {
   "cell_type": "code",
   "execution_count": 10,
   "metadata": {},
   "outputs": [],
   "source": [
    "#a\n",
    "title =['The Dark Knight','The Godfather','Pulp Fiction']\n",
    "final = []\n",
    "for i in range(len(title)):\n",
    "    final.append(url + '&t=' + title[i] + '&plot=full')"
   ]
  },
  {
   "cell_type": "code",
   "execution_count": 11,
   "metadata": {},
   "outputs": [],
   "source": [
    "top_data = []\n",
    "for i in range(len(final)):\n",
    "    request = requests.get(final[i])\n",
    "    top_data.append(request.json())\n"
   ]
  },
  {
   "cell_type": "code",
   "execution_count": 12,
   "metadata": {},
   "outputs": [],
   "source": [
    "top_test = {}\n",
    "for i in range(len(top_data)):\n",
    " for key, value in top_data[i].items():\n",
    "  if key == 'Title':\n",
    "     test = value\n",
    "  if key == 'imdbID':\n",
    "     top_test[test] = value"
   ]
  },
  {
   "cell_type": "code",
   "execution_count": 13,
   "metadata": {},
   "outputs": [
    {
     "data": {
      "text/plain": [
       "{'The Dark Knight': 'tt0468569',\n",
       " 'The Godfather': 'tt0068646',\n",
       " 'Pulp Fiction': 'tt0110912'}"
      ]
     },
     "execution_count": 13,
     "metadata": {},
     "output_type": "execute_result"
    }
   ],
   "source": [
    "top_test"
   ]
  },
  {
   "cell_type": "code",
   "execution_count": 14,
   "metadata": {},
   "outputs": [],
   "source": [
    "#b\n",
    "id_final = []\n",
    "for value in top_test.values():\n",
    "  id_final.append(url + '&i=' + value + '&plot=full')\n",
    "    "
   ]
  },
  {
   "cell_type": "code",
   "execution_count": 15,
   "metadata": {},
   "outputs": [],
   "source": [
    "top_id = []\n",
    "for i in range(len(id_final)):\n",
    "    request = requests.get(id_final[i])\n",
    "    top_id.append(request.json())"
   ]
  },
  {
   "cell_type": "code",
   "execution_count": 149,
   "metadata": {},
   "outputs": [],
   "source": [
    "#c"
   ]
  },
  {
   "cell_type": "code",
   "execution_count": 43,
   "metadata": {},
   "outputs": [],
   "source": [
    "mydb = mysql.connector.connect(\n",
    "  host=\"localhost\",\n",
    "  user=\"root\",\n",
    "  passwd=\"0411\",\n",
    "  database=\"ucdavis\"\n",
    ")\n",
    "mycursor = mydb.cursor()\n",
    "\n",
    "mycursor.execute(\"CREATE TABLE IF NOT EXISTS omdb(Title VARCHAR(255), Year int, Genre VARCHAR(255), Director VARCHAR(255), imdb_rating float, rotten_tomatoes VARCHAR(255), metacritic VARCHAR(255), plot VARCHAR(9999), box_office VARCHAR(255))\")\n",
    "\n",
    "# sql = \"INSERT INTO omdb (Title,Year,Genre,Director,imdb_rating,rotten_tomatoes,metacritic,plot,box_office VALUES (%s,%s,%s,%s,%s,%s,%s,%s,%s)\"\n",
    "# val = [top_id[0]['Title'],top_id[0]['Year'],top_id[0]['Genre'],top_id[0]['Director'],top_id[0]['imdbRating'],top_id[0]['Ratings'][1]['Value'],top_id[0]['Ratings'][2]['Value'],top_id[0]['Plot'],top_id[0]['BoxOffice']]\n",
    "\n",
    "# mycursor.execute(sql,val)\n",
    "# mydb.commit()\n",
    "\n",
    "for i in range(len(top_id)):\n",
    "  sql = 'INSERT INTO omdb (Title,Year,Genre,Director,imdb_rating,rotten_tomatoes,metacritic,plot,box_office) VALUES (%s,%s,%s,%s,%s,%s,%s,%s,%s)'\n",
    "  val = [top_id[i]['Title'],top_id[i]['Year'],top_id[i]['Genre'],top_id[i]['Director'],top_id[i]['imdbRating'],top_id[i]['Ratings'][1]['Value'],top_id[i]['Ratings'][2]['Value'],top_id[i]['Plot'],top_id[i]['BoxOffice']]\n",
    "  mycursor.execute(sql,val)\n",
    "mydb.commit()\n",
    "mydb.close()"
   ]
  }
 ],
 "metadata": {
  "kernelspec": {
   "display_name": "Python 3",
   "language": "python",
   "name": "python3"
  },
  "language_info": {
   "codemirror_mode": {
    "name": "ipython",
    "version": 3
   },
   "file_extension": ".py",
   "mimetype": "text/x-python",
   "name": "python",
   "nbconvert_exporter": "python",
   "pygments_lexer": "ipython3",
   "version": "3.7.6"
  }
 },
 "nbformat": 4,
 "nbformat_minor": 2
}
