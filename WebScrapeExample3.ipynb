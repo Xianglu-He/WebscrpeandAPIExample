{
 "cells": [
  {
   "cell_type": "code",
   "execution_count": 1,
   "metadata": {
    "ExecuteTime": {
     "end_time": "2020-04-19T01:25:27.034589Z",
     "start_time": "2020-04-19T01:25:27.028604Z"
    }
   },
   "outputs": [],
   "source": [
    "#import packages\n",
    "import pandas as pd\n",
    "from pandas.io import gbq\n",
    "import requests\n",
    "from selenium import webdriver\n",
    "from selenium.webdriver.common.keys import Keys\n",
    "from selenium.webdriver.common.action_chains import ActionChains\n",
    "from selenium.webdriver.chrome.options import Options "
   ]
  },
  {
   "cell_type": "code",
   "execution_count": 2,
   "metadata": {},
   "outputs": [],
   "source": [
    "def get_data(path):\n",
    "    #Initial the webdriver and set the target website to CAISO\n",
    "    driver = webdriver.Chrome(executable_path=path)\n",
    "    url = 'http://www.caiso.com/TodaysOutlook/Pages/default.aspx'\n",
    "    driver.get(url)\n",
    "    \n",
    "    #Active the webdriver\n",
    "    action = ActionChains(driver)\n",
    "    \n",
    "    #Find the class which contains the data point\n",
    "    firstLevelMenu = driver.find_element_by_class_name(\"highcharts-plot-bands-0\")\n",
    "    action.move_to_element(firstLevelMenu).click().perform()\n",
    "    \n",
    "    #Use Selenium to simulate my mouse to click, display the chart-tooltip, and save the data point value into Data list\n",
    "    gap = 3\n",
    "    data = []\n",
    "    for i in range(266):\n",
    "        move = i*gap\n",
    "        el=driver.find_element_by_class_name(\"highcharts-plot-bands-0\")\n",
    "\n",
    "        action = webdriver.common.action_chains.ActionChains(driver)\n",
    "        action.move_to_element_with_offset(el, move, 0)\n",
    "        action.click()\n",
    "        action.perform()\n",
    "        data.append([el.text for el in driver.find_element_by_class_name('chart-tooltip').find_elements_by_css_selector(\"*\")])\n",
    "        \n",
    "    #Convert it into Panda DataFrame for futher adjustment\n",
    "    Demand_df = pd.DataFrame(data)\n",
    "    Demand_df = Demand_df.loc[:,[0,2,5,8]]\n",
    "    Demand_df.columns = [\"Time\",\"Day_Ahead_Forecast\",\"Hour_Ahead_Forecast\",\"Five_Minute_Demand\"]\n",
    "    return Demand_df"
   ]
  },
  {
   "cell_type": "code",
   "execution_count": 3,
   "metadata": {},
   "outputs": [],
   "source": [
    "#Named the result as Demand_df\n",
    "Demand_df = get_data('C:/Users/Xianglu He/Desktop/Python Code/EBCE/chromedriver.exe')"
   ]
  },
  {
   "cell_type": "code",
   "execution_count": 4,
   "metadata": {},
   "outputs": [
    {
     "data": {
      "text/html": [
       "<div>\n",
       "<style scoped>\n",
       "    .dataframe tbody tr th:only-of-type {\n",
       "        vertical-align: middle;\n",
       "    }\n",
       "\n",
       "    .dataframe tbody tr th {\n",
       "        vertical-align: top;\n",
       "    }\n",
       "\n",
       "    .dataframe thead th {\n",
       "        text-align: right;\n",
       "    }\n",
       "</style>\n",
       "<table border=\"1\" class=\"dataframe\">\n",
       "  <thead>\n",
       "    <tr style=\"text-align: right;\">\n",
       "      <th></th>\n",
       "      <th>Time</th>\n",
       "      <th>Day_Ahead_Forecast</th>\n",
       "      <th>Hour_Ahead_Forecast</th>\n",
       "      <th>Five_Minute_Demand</th>\n",
       "    </tr>\n",
       "  </thead>\n",
       "  <tbody>\n",
       "    <tr>\n",
       "      <th>0</th>\n",
       "      <td>0:00</td>\n",
       "      <td>23,159</td>\n",
       "      <td>22,184</td>\n",
       "      <td>21,966</td>\n",
       "    </tr>\n",
       "    <tr>\n",
       "      <th>1</th>\n",
       "      <td>0:05</td>\n",
       "      <td>21,255</td>\n",
       "      <td>21,832</td>\n",
       "      <td>21,898</td>\n",
       "    </tr>\n",
       "    <tr>\n",
       "      <th>2</th>\n",
       "      <td>0:10</td>\n",
       "      <td>21,255</td>\n",
       "      <td>21,832</td>\n",
       "      <td>21,879</td>\n",
       "    </tr>\n",
       "    <tr>\n",
       "      <th>3</th>\n",
       "      <td>0:15</td>\n",
       "      <td>21,255</td>\n",
       "      <td>21,832</td>\n",
       "      <td>21,774</td>\n",
       "    </tr>\n",
       "    <tr>\n",
       "      <th>4</th>\n",
       "      <td>0:20</td>\n",
       "      <td>21,255</td>\n",
       "      <td>21,586</td>\n",
       "      <td>21,694</td>\n",
       "    </tr>\n",
       "  </tbody>\n",
       "</table>\n",
       "</div>"
      ],
      "text/plain": [
       "   Time Day_Ahead_Forecast Hour_Ahead_Forecast Five_Minute_Demand\n",
       "0  0:00             23,159              22,184             21,966\n",
       "1  0:05             21,255              21,832             21,898\n",
       "2  0:10             21,255              21,832             21,879\n",
       "3  0:15             21,255              21,832             21,774\n",
       "4  0:20             21,255              21,586             21,694"
      ]
     },
     "execution_count": 4,
     "metadata": {},
     "output_type": "execute_result"
    }
   ],
   "source": [
    "#Take a look of the result\n",
    "Demand_df.head()"
   ]
  },
  {
   "cell_type": "code",
   "execution_count": 5,
   "metadata": {},
   "outputs": [],
   "source": [
    "def to_gcp(table,project_id):\n",
    "    #Connect to Google Cloud API and Upload DataFrame\n",
    "    Demand_df.to_gbq(destination_table = table,\n",
    "                     project_id = project_id,\n",
    "                     if_exists = 'replace')"
   ]
  },
  {
   "cell_type": "code",
   "execution_count": 6,
   "metadata": {},
   "outputs": [
    {
     "name": "stderr",
     "output_type": "stream",
     "text": [
      "1it [00:03,  3.64s/it]\n"
     ]
    }
   ],
   "source": [
    "#Save it to my personal Bigquery Cloud\n",
    "to_gcp('EBCE.Demand','divine-energy-265203')"
   ]
  }
 ],
 "metadata": {
  "kernelspec": {
   "display_name": "Python 3",
   "language": "python",
   "name": "python3"
  },
  "language_info": {
   "codemirror_mode": {
    "name": "ipython",
    "version": 3
   },
   "file_extension": ".py",
   "mimetype": "text/x-python",
   "name": "python",
   "nbconvert_exporter": "python",
   "pygments_lexer": "ipython3",
   "version": "3.7.6"
  },
  "toc": {
   "base_numbering": 1,
   "nav_menu": {},
   "number_sections": true,
   "sideBar": true,
   "skip_h1_title": false,
   "title_cell": "Table of Contents",
   "title_sidebar": "Contents",
   "toc_cell": false,
   "toc_position": {},
   "toc_section_display": true,
   "toc_window_display": false
  }
 },
 "nbformat": 4,
 "nbformat_minor": 4
}
