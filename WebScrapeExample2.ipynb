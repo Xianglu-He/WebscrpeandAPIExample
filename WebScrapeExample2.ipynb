{
 "cells": [
  {
   "cell_type": "code",
   "execution_count": 1,
   "metadata": {},
   "outputs": [],
   "source": [
    "#Regex \n",
    "import datetime\n",
    "import re\n",
    "\n",
    "hw1 = open('mock_data.csv','r')\n",
    "q1 = hw1.read()\n",
    "hw1.close()"
   ]
  },
  {
   "cell_type": "code",
   "execution_count": 3,
   "metadata": {},
   "outputs": [
    {
     "data": {
      "text/plain": [
       "str"
      ]
     },
     "execution_count": 3,
     "metadata": {},
     "output_type": "execute_result"
    }
   ],
   "source": [
    "type(q1)"
   ]
  },
  {
   "cell_type": "code",
   "execution_count": 65,
   "metadata": {},
   "outputs": [
    {
     "name": "stdout",
     "output_type": "stream",
     "text": [
      "birthday,phone,names,lat_long,email,zip,city\n",
      "07/05/2020,1-560-294-4480,Leslie H. Howard,\"-80.7931, 157.73725\",magna.Nam@Praesentinterdumligula.com,05-449,Campina Grande\n",
      "11/06/2019,1-616-403-7121,Kyra T. Wynn,\"-54.65661, 87.93458\",amet.ornare@uterosnon.net,1975,Bagh\n",
      "11/23/2020,1-258-160-9496,Darius G. Huff,\"-56.23283, -116.1583\",ipsum@erat.co.uk,24192,Conca Casale\n",
      "05/07/2020,1-129-425-6705,Flynn M. Rodriguez,\"50.02477, -93.02564\",nunc.est.mollis@auctor.com,6311,Uyo\n",
      "09/25/2020,1-715-932-5611,Damon K. Potts,\"34.94064, 91.87029\",neque.venenatis@Phasellus.ca,26531,Lahore\n",
      "12/30/2019,1-488-594-4480,Odessa U. Stewart,\"41.01394, 96.36819\",Proin.mi@a.co.uk,40738,Namen\n",
      "03/04/2019,1-693-871-0017,Ruby M. Noble,\"75.21109, -148.67016\",gravida.non.sollicitudin@odioNam.net,968589,Sevilla\n",
      "12/17/2020,1-337-498-7475,Hadassah W. Dale,\"32.72148, -122.01392\",Cras@dictum.co.uk,5375,Bella\n",
      "02/24/2019,1-861-878-4813,Baker B. Francis,\"36.06121, -68.27199\",erat@tinciduntnibhPhasellus.ca,65737,Chekhov\n",
      "09/25/2020,1-825-185-8476,Cheyenne K. Dean,\"56.5022, 151.02082\",in@nequeseddictum.co.uk,302379,Stary Oskol\n",
      "07/23/2019,1-871-331-2303,Kevyn E. Cox,\"89.15273, 46.41947\",vel@mollis.ca,695644,Midlands\n",
      "10/05/2019,1-378-622-9633,Gregory P. Hatfield,\"-59.95322, 33.01087\",egestas@mauriserat.com,8801,CÃ³rdoba\n",
      "03/29/2019,1-349-361-6222,Kylee J. Hoover,\"68.95134, 143.00006\",egestas.hendrerit.neque@erat.net,69-970,Cortil-Noirmont\n",
      "03/23/2019,1-882-123-7786,Flavia M. Pitts,\"-84.49028, 134.95122\",nulla@scelerisquesed.co.uk,Z44 3OC,AlÃ¨s\n",
      "12/02/2020,1-264-548-5318,Tamara V. Patrick,\"39.99846, 63.55341\",tristique.pellentesque@egetvarius.net,66004,Tullibody\n",
      "02/29/2020,1-683-583-5210,Byron T. Horne,\"32.49449, 100.66053\",erat.Etiam@senectus.com,5878,Wekweti\n",
      "07/07/2020,1-561-557-4779,Aubrey O. Barr,\"-50.38051, 9.15288\",amet.dapibus@dignissimlacusAliquam.edu,06-852,New Orleans\n",
      "08/08/2020,1-915-932-7907,India M. Burton,\"-62.94522, 156.80774\",cursus.luctus@risusatfringilla.org,20538,Bangor\n",
      "06/26/2020,1-571-390-3167,Tatiana O. Sloan,\"28.70745, 24.95209\",ut@fermentummetusAenean.com,11028,Salem\n",
      "06/11/2020,1-317-888-9015,Kirsten S. Wolf,\"-64.38445, -118.19839\",rutrum@metusAliquam.co.uk,6751 DI,Campbeltown\n",
      "01/28/2019,1-118-618-0317,Knox C. Farmer,\"2.41655, 85.92271\",Proin.dolor@sagittisDuisgravida.ca,55802,Bergama\n",
      "09/06/2019,1-200-265-5339,Kieran P. Hendrix,\"55.02022, 33.43453\",elit.pretium.et@vitaesodales.edu,864684,Rimbey\n",
      "06/06/2019,1-536-834-8974,Libby F. Mcmahon,\"-39.34568, 0.14016\",magna.a.tortor@id.net,676087,Quilaco\n",
      "12/05/2020,1-403-581-7504,Xanthus P. Long,\"58.72796, -131.54363\",ornare.elit.elit@adipiscingenim.org,29883,JundiaÃ­\n",
      "01/09/2019,1-459-694-0112,Forrest Q. Stevens,\"89.20785, -0.57186\",nulla.Integer@maurisipsumporta.ca,16974-448,Lac Ste. Anne\n",
      "08/17/2020,1-883-604-1559,Gisela M. Banks,\"14.21796, 62.71378\",semper.rutrum.Fusce@Nullam.net,11319,Diego de Almagro\n",
      "06/10/2020,1-660-827-2100,Demetrius H. Solomon,\"63.39257, -142.31014\",conubia.nostra.per@Nullamscelerisqueneque.edu,87453,Hulste\n",
      "10/06/2020,1-705-389-5984,Rhoda V. Thornton,\"12.23557, -160.4698\",nec.eleifend.non@enim.co.uk,62623-64171,Seevetal\n",
      "11/20/2020,1-788-931-7585,William N. Thompson,\"-35.82526, 134.59113\",nibh@Nullamsuscipit.net,57-080,BÃ¶blingen\n",
      "04/27/2020,1-693-726-2073,Nathaniel R. Meadows,\"-21.19925, -111.38604\",elit.elit@sedfacilisis.ca,Z8137,Torquay\n",
      "01/21/2019,1-733-737-3304,Kerry Y. Holman,\"-30.41505, -167.69919\",non.cursus@dignissimtemporarcu.co.uk,947358,Bajardo\n",
      "09/09/2019,1-627-678-0692,Brooke Y. Jensen,\"25.17997, -172.71433\",et.libero@Sed.net,28964-40571,Tampa\n",
      "05/09/2019,1-617-988-6159,Carl Y. Hart,\"-81.05365, 166.6208\",non.cursus.non@ridiculus.edu,08651-455,Villar Pellice\n",
      "10/12/2020,1-738-577-3378,Yoko W. Conley,\"12.56792, 29.5851\",eget.odio.Aliquam@scelerisque.ca,70528,Osimo\n",
      "10/29/2020,1-170-986-7969,Gisela E. Zamora,\"-17.71338, -80.47218\",Cras.dictum.ultricies@eu.com,62135-112,Banda Aceh\n",
      "12/19/2020,1-862-824-1890,Emily S. Morales,\"6.50359, 30.07917\",rhoncus@elit.net,579173,Newtown\n",
      "12/25/2020,1-468-714-5514,Reed W. Larsen,\"-68.94074, 119.03856\",quam.a@dolor.com,71432-91389,Bronnitsy\n",
      "11/12/2020,1-493-308-8694,Cynthia U. Glass,\"-64.69129, 88.84348\",nulla.ante.iaculis@a.ca,214504,Buenaventura\n",
      "11/23/2019,1-566-925-7389,Craig X. Vance,\"-69.0148, 165.22393\",ac.risus.Morbi@suscipitest.co.uk,76045,Borchtlombeek\n",
      "01/04/2020,1-268-944-6965,Herrod U. Morrison,\"-66.76159, -40.28233\",velit@felis.net,443100,Castellina in Chianti\n",
      "10/31/2019,1-659-705-2352,Martin J. Baird,\"25.43639, 31.62998\",ridiculus.mus.Aenean@molestiedapibus.net,7438,Tsiigehtchic\n",
      "09/23/2019,1-721-839-8699,Sybil L. Craft,\"70.34742, 51.18031\",ipsum.primis.in@lorem.co.uk,85293,Vilna\n",
      "09/14/2020,1-419-527-3995,Carl L. Middleton,\"25.1437, -96.72922\",congue.elit.sed@sapien.org,245861,Pontboset\n",
      "01/29/2020,1-999-934-3635,Erich F. Mann,\"37.48213, -53.5339\",molestie.tortor@sitamet.edu,83472-452,Hertford\n",
      "04/13/2020,1-192-663-4543,Teagan I. Webster,\"70.36436, 138.33781\",fames.ac@ligula.org,07570,Victoria\n",
      "09/18/2019,1-187-105-6643,Dacey R. Wilson,\"-15.88582, -54.80389\",Quisque@velitSed.org,89030,Algarrobo\n",
      "09/30/2020,1-340-750-6897,Berk M. Jordan,\"-19.95651, -102.64553\",Donec.tincidunt.Donec@anteblandit.com,33473,LamontzÅ½e\n",
      "11/17/2020,1-153-403-8432,Ezekiel A. Sherman,\"-59.46452, -120.88989\",lorem.eget@euismod.edu,08875,Guelph\n",
      "05/06/2019,1-334-364-7748,Castor O. Walter,\"28.8487, -38.76282\",orci@nuncnulla.edu,H0V 2J6,Gonda\n",
      "02/04/2020,1-157-436-0796,Christine P. Keith,\"87.66421, 3.49884\",Curabitur.consequat.lectus@erat.edu,024292,Detroit\n",
      "01/04/2021,1-244-155-5471,Gillian J. Gross,\"-38.86361, -70.91566\",et.magnis.dis@nisl.com,04257,Sint-Renelde Saintes\n",
      "12/07/2019,1-826-267-3819,Tate X. Huff,\"39.79327, -88.76742\",volutpat@duisemperet.co.uk,2429,Bogor\n",
      "03/05/2019,1-731-797-0418,April G. Pate,\"46.38718, 46.38781\",arcu.iaculis.enim@tortorInteger.co.uk,29017,Thame\n",
      "07/14/2020,1-330-735-7005,Basia F. Alexander,\"-29.38123, 91.04625\",volutpat@anteMaecenasmi.edu,61770,Sommethonne\n",
      "10/11/2020,1-576-416-3377,MacKensie N. Wilson,\"-5.52387, -61.69674\",tempor.diam.dictum@cubiliaCuraeDonec.co.uk,993668,Marche-les-Dames\n",
      "04/14/2020,1-702-445-0164,Eleanor Y. Hill,\"58.28816, -134.60316\",Mauris.ut.quam@urnaconvalliserat.org,29-385,Toulouse\n",
      "02/13/2020,1-440-983-5117,Pamela D. Kennedy,\"-0.38127, 104.42787\",a.mi.fringilla@ipsumprimis.ca,77322,Bois-de-Villers\n",
      "03/10/2020,1-435-212-3143,Nichole S. Sullivan,\"76.95968, 75.43192\",Proin@Quisque.com,2636,Newport\n",
      "09/11/2020,1-924-168-2772,Keefe Y. Hebert,\"-21.15394, 4.2894\",rutrum.non.hendrerit@apurus.ca,29518,Salamanca\n",
      "08/30/2020,1-515-824-2566,Kyra N. Lindsey,\"75.91447, -136.4242\",vel@nasceturridiculusmus.net,732440,Plancenoit\n",
      "05/31/2020,1-366-236-0827,Ifeoma W. Cantrell,\"54.42347, 110.36318\",vestibulum.nec@eu.ca,Z8651,Sint-Joost-ten-Node\n",
      "05/16/2019,1-463-136-7413,Brett W. Ellison,\"24.87553, -40.27266\",ultrices.iaculis.odio@mipede.edu,39529,Opwijk\n",
      "04/30/2020,1-754-488-2253,Phyllis P. Houston,\"42.5206, -87.48687\",lorem.sit@Mauris.edu,648777,Kakisa\n",
      "06/09/2019,1-783-398-6839,Sonia L. Wagner,\"43.27127, 30.50554\",consectetuer.rhoncus@metus.edu,30215,Juan FernÃ¡ndez\n",
      "05/10/2020,1-712-863-7901,Amery W. Ballard,\"-74.52083, 90.36652\",eget.metus@Proin.co.uk,461711,Ospedaletto Lodigiano\n",
      "02/21/2019,1-884-596-2953,Paul R. Woods,\"-8.18776, 51.37251\",ante.ipsum@necluctus.ca,72-189,Cassaro\n",
      "04/30/2019,1-419-232-7108,Myra A. Russo,\"-63.17778, -154.27882\",Etiam.gravida.molestie@vitaeposuereat.edu,5845 XU,Teodoro Schmidt\n",
      "07/29/2019,1-734-670-7362,Colleen S. Marks,\"88.80091, 162.27777\",Phasellus.dapibus.quam@consequatnecmollis.net,422676,Tongrinne\n",
      "11/05/2019,1-516-424-8147,Scott Y. Salinas,\"-62.06726, -65.46811\",luctus.Curabitur@eu.com,27798,Huppaye\n",
      "12/21/2020,1-933-535-5660,Alfreda A. Moore,\"48.95176, 130.90851\",commodo.at.libero@nuncid.com,79-276,Rodengo/Rodeneck\n",
      "01/14/2019,1-296-999-4680,Charles T. Lindsay,\"77.47632, -159.02314\",lectus@Integerid.org,01432,Kimberly\n",
      "06/30/2020,1-905-270-1942,Bert G. Blair,\"30.52258, 71.47637\",at.sem.molestie@indolor.net,IM29 8EX,San Felice a Cancello\n",
      "08/17/2020,1-484-337-4580,Plato O. Burgess,\"83.37789, -70.20963\",egestas.Duis@feugiatmetussit.ca,54780,Narbolia\n",
      "12/08/2020,1-404-598-8404,Jamal L. Leon,\"-83.89639, -106.54687\",ipsum@turpis.com,0444,Auldearn\n",
      "04/06/2019,1-669-894-7349,Chava S. Workman,\"1.80377, -43.1461\",habitant@nulla.ca,5695,New Galloway\n",
      "01/04/2020,1-385-809-9586,Jolene K. Faulkner,\"84.59178, -41.70744\",semper.cursus.Integer@eueuismodac.net,60916,Devizes\n",
      "12/31/2019,1-253-355-8549,Courtney W. Kerr,\"-37.4529, -130.57738\",nonummy.ac@mauris.com,00142,Nellore\n",
      "09/11/2020,1-618-610-2856,Coby V. Christian,\"9.50853, -7.64751\",dui.in@sociisnatoque.org,71215,Trani\n",
      "06/04/2020,1-610-348-5034,Logan K. Petersen,\"-55.38965, 119.39998\",Pellentesque@semperrutrumFusce.net,23445,Umerkot\n",
      "08/22/2020,1-845-692-6193,Charlotte W. Jennings,\"35.12842, -7.53647\",luctus@gravidasitamet.com,Z7211,Aschersleben\n",
      "01/29/2020,1-137-115-2953,Shana D. Marks,\"-77.38444, -65.65454\",adipiscing.fringilla.porttitor@Quisqueporttitor.co.uk,47797,Philadelphia\n",
      "10/13/2019,1-194-290-8080,Cadman T. Mitchell,\"23.20457, -115.90137\",Aenean.eget.magna@ultrices.edu,25269,Badajoz\n",
      "11/30/2020,1-649-397-7395,Pascale U. Wong,\"-69.78969, -78.71122\",eu.turpis.Nulla@justo.ca,754662,Dangjin\n",
      "06/08/2020,1-205-868-6608,Martena V. Heath,\"18.59665, 127.54506\",ipsum.sodales.purus@sempercursusInteger.co.uk,27936,Saint-Quentin\n",
      "07/29/2019,1-178-427-4737,Germane A. Parker,\"-54.89724, 105.65803\",mi.lorem@auctor.ca,127767,Schwedt\n",
      "11/12/2019,1-364-540-6302,Mannix O. Reyes,\"79.972, -87.40092\",Duis@sit.edu,45247,St. Paul\n",
      "07/09/2020,1-650-203-1719,Wynter E. Galloway,\"35.27071, 137.60057\",purus.accumsan@necmalesuada.co.uk,33134,Idaho Falls\n",
      "02/10/2020,1-291-155-0181,Sybil H. Hines,\"80.86498, 42.72178\",metus.In.nec@facilisi.ca,S8W 1Z7,LÃ¶rrach\n",
      "07/09/2019,1-746-240-8034,Grady G. Shelton,\"38.67297, -133.51202\",lobortis.Class@luctusut.net,89917,Hennigsdorf\n",
      "03/23/2020,1-674-525-8540,Ria J. Wilson,\"74.93692, 70.46767\",mollis.Integer.tincidunt@ut.ca,65822-35076,Aiello Calabro\n",
      "01/23/2019,1-112-523-5404,Darrel A. Rojas,\"-64.57208, -149.73866\",erat.volutpat@SedmolestieSed.co.uk,06279,East Jakarta\n",
      "09/20/2020,1-128-503-9404,Jermaine B. Sexton,\"11.947, -79.33305\",lobortis.Class.aptent@porttitorvulputate.ca,89729,Annan\n",
      "11/08/2020,1-904-424-8266,Erasmus X. Finley,\"67.8675, 30.81345\",id.libero.Donec@malesuadavelconvallis.net,06193,MÃ©rignac\n",
      "02/03/2019,1-349-941-0735,Allen N. Noel,\"33.7464, -118.05116\",odio@porttitorscelerisque.com,95594,VilcÃºn\n",
      "02/03/2019,1-408-166-4703,Elmo V. Page,\"32.3939, -69.68619\",sollicitudin@risus.edu,82419-29635,Newtonmore\n",
      "10/27/2019,1-830-227-5876,Germane X. Ingram,\"34.24397, 1.14447\",Donec@imperdietnec.com,6975,GÃ¶ppingen\n",
      "08/07/2019,1-305-546-8242,Tad P. Reilly,\"0.33915, 91.01438\",facilisis@liberodui.com,55476,Pictou\n",
      "04/08/2020,1-276-169-7194,Lilah Z. Ratliff,\"-56.36237, -62.80281\",viverra.Donec.tempus@magnisdis.ca,381080,Trieste\n",
      "10/07/2020,1-821-467-2365,Evan L. Murphy,\"-30.59229, 37.86276\",enim@arcu.edu,24610,Strongoli\n",
      "01/14/2020,1-790-610-1419,Galena Y. Hoover,\"-8.52879, -88.61456\",eget.varius.ultrices@Quisqueornare.com,92-366,Margate\n"
     ]
    }
   ],
   "source": [
    "#Part One\n",
    "print(re.sub('([0-9]+)\\.([0-9]+)\\.([0-9]+)','\\\\2/\\\\1/\\\\3',q1))"
   ]
  },
  {
   "cell_type": "code",
   "execution_count": 66,
   "metadata": {},
   "outputs": [
    {
     "name": "stdout",
     "output_type": "stream",
     "text": [
      "['Nam@Praesentinterdumligula.com', 'ornare@uterosnon.net', 'ipsum@erat.co', 'mollis@auctor.com', 'venenatis@Phasellus.ca', 'mi@a.co', 'sollicitudin@odioNam.net', 'Cras@dictum.co', 'erat@tinciduntnibhPhasellus.ca', 'in@nequeseddictum.co', 'vel@mollis.ca', 'egestas@mauriserat.com', 'neque@erat.net', 'nulla@scelerisquesed.co', 'pellentesque@egetvarius.net', 'Etiam@senectus.com', 'dapibus@dignissimlacusAliquam.edu', 'luctus@risusatfringilla.org', 'ut@fermentummetusAenean.com', 'rutrum@metusAliquam.co', 'dolor@sagittisDuisgravida.ca', 'et@vitaesodales.edu', 'tortor@id.net', 'elit@adipiscingenim.org', 'Integer@maurisipsumporta.ca', 'Fusce@Nullam.net', 'per@Nullamscelerisqueneque.edu', 'non@enim.co', 'nibh@Nullamsuscipit.net', 'elit@sedfacilisis.ca', 'cursus@dignissimtemporarcu.co', 'libero@Sed.net', 'non@ridiculus.edu', 'Aliquam@scelerisque.ca', 'ultricies@eu.com', 'rhoncus@elit.net', 'a@dolor.com', 'iaculis@a.ca', 'Morbi@suscipitest.co', 'velit@felis.net', 'Aenean@molestiedapibus.net', 'in@lorem.co', 'sed@sapien.org', 'tortor@sitamet.edu', 'ac@ligula.org', 'Quisque@velitSed.org', 'Donec@anteblandit.com', 'eget@euismod.edu', 'orci@nuncnulla.edu', 'lectus@erat.edu', 'dis@nisl.com', 'volutpat@duisemperet.co', 'enim@tortorInteger.co', 'volutpat@anteMaecenasmi.edu', 'dictum@cubiliaCuraeDonec.co', 'quam@urnaconvalliserat.org', 'fringilla@ipsumprimis.ca', 'Proin@Quisque.com', 'hendrerit@apurus.ca', 'vel@nasceturridiculusmus.net', 'nec@eu.ca', 'odio@mipede.edu', 'sit@Mauris.edu', 'rhoncus@metus.edu', 'metus@Proin.co', 'ipsum@necluctus.ca', 'molestie@vitaeposuereat.edu', 'quam@consequatnecmollis.net', 'Curabitur@eu.com', 'libero@nuncid.com', 'lectus@Integerid.org', 'molestie@indolor.net', 'Duis@feugiatmetussit.ca', 'ipsum@turpis.com', 'habitant@nulla.ca', 'Integer@eueuismodac.net', 'ac@mauris.com', 'in@sociisnatoque.org', 'Pellentesque@semperrutrumFusce.net', 'luctus@gravidasitamet.com', 'porttitor@Quisqueporttitor.co', 'magna@ultrices.edu', 'Nulla@justo.ca', 'purus@sempercursusInteger.co', 'lorem@auctor.ca', 'Duis@sit.edu', 'accumsan@necmalesuada.co', 'nec@facilisi.ca', 'Class@luctusut.net', 'tincidunt@ut.ca', 'volutpat@SedmolestieSed.co', 'aptent@porttitorvulputate.ca', 'Donec@malesuadavelconvallis.net', 'odio@porttitorscelerisque.com', 'sollicitudin@risus.edu', 'Donec@imperdietnec.com', 'facilisis@liberodui.com', 'tempus@magnisdis.ca', 'enim@arcu.edu', 'ultrices@Quisqueornare.com']\n"
     ]
    }
   ],
   "source": [
    "#Part two\n",
    "print(re.findall('(\\w+@[a-zA-Z_]+?\\.[a-zA-Z]{2,6})',q1))"
   ]
  },
  {
   "cell_type": "code",
   "execution_count": 75,
   "metadata": {},
   "outputs": [
    {
     "data": {
      "text/plain": [
       "'birthday,phone,names,lat_long,email,zip,city\\n05.07.2020,1-560-294-4480,Leslie H. Howard,\"-80.7931, 157.73725\",magna.Nam@Praesentinterdumligula.com,05-449,Campina Grande\\n06.11.2019,1-616-403-7121,Kyra T. Wynn,\"-54.65661, 87.93458\",amet.ornare@uterosnon.net,1975,Bagh\\n23.11.2020,1-258-160-9496,Darius G. Huff,\"-56.23283, -116.1583\",ipsum@erat.co.uk,24192,Conca Casale\\n07.05.2020,1-129-425-6705,Flynn M. Rodriguez,\"50.02477, -93.02564\",nunc.est.mollis@auctor.com,6311,Uyo\\n25.09.2020,1-715-932-5611,Damon K. Potts,\"34.94064, 91.87029\",neque.venenatis@Phasellus.ca,26531,Lahore\\n30.12.2019,1-488-594-4480,Odessa U. Stewart,\"41.01394, 96.36819\",Proin.mi@a.co.uk,40738,Namen\\n04.03.2019,1-693-871-0017,Ruby M. Noble,\"75.21109, -148.67016\",gravida.non.sollicitudin@odioNam.net,968589,Sevilla\\n17.12.2020,1-337-498-7475,Hadassah W. Dale,\"32.72148, -122.01392\",Cras@dictum.co.uk,5375,Bella\\n24.02.2019,1-861-878-4813,Baker B. Francis,\"36.06121, -68.27199\",erat@tinciduntnibhPhasellus.ca,65737,Chekhov\\n25.09.2020,1-825-185-8476,Cheyenne K. Dean,\"56.5022, 151.02082\",in@nequeseddictum.co.uk,302379,Stary Oskol\\n23.07.2019,1-871-331-2303,Kevyn E. Cox,\"89.15273, 46.41947\",vel@mollis.ca,695644,Midlands\\n05.10.2019,1-378-622-9633,Gregory P. Hatfield,\"-59.95322, 33.01087\",egestas@mauriserat.com,8801,CÃ³rdoba\\n29.03.2019,1-349-361-6222,Kylee J. Hoover,\"68.95134, 143.00006\",egestas.hendrerit.neque@erat.net,69-970,Cortil-Noirmont\\n23.03.2019,1-882-123-7786,Flavia M. Pitts,\"-84.49028, 134.95122\",nulla@scelerisquesed.co.uk,Z44 3OC,AlÃ¨s\\n02.12.2020,1-264-548-5318,Tamara V. Patrick,\"39.99846, 63.55341\",tristique.pellentesque@egetvarius.net,66004,Tullibody\\n29.02.2020,1-683-583-5210,Byron T. Horne,\"32.49449, 100.66053\",erat.Etiam@senectus.com,5878,Wekweti\\n07.07.2020,1-561-557-4779,Aubrey O. Barr,\"-50.38051, 9.15288\",amet.dapibus@dignissimlacusAliquam.edu,06-852,New Orleans\\n08.08.2020,1-915-932-7907,India M. Burton,\"-62.94522, 156.80774\",cursus.luctus@risusatfringilla.org,20538,Bangor\\n26.06.2020,1-571-390-3167,Tatiana O. Sloan,\"28.70745, 24.95209\",ut@fermentummetusAenean.com,11028,Salem\\n11.06.2020,1-317-888-9015,Kirsten S. Wolf,\"-64.38445, -118.19839\",rutrum@metusAliquam.co.uk,6751 DI,Campbeltown\\n28.01.2019,1-118-618-0317,Knox C. Farmer,\"2.41655, 85.92271\",Proin.dolor@sagittisDuisgravida.ca,55802,Bergama\\n06.09.2019,1-200-265-5339,Kieran P. Hendrix,\"55.02022, 33.43453\",elit.pretium.et@vitaesodales.edu,864684,Rimbey\\n06.06.2019,1-536-834-8974,Libby F. Mcmahon,\"-39.34568, 0.14016\",magna.a.tortor@id.net,676087,Quilaco\\n05.12.2020,1-403-581-7504,Xanthus P. Long,\"58.72796, -131.54363\",ornare.elit.elit@adipiscingenim.org,29883,JundiaÃ\\xad\\n09.01.2019,1-459-694-0112,Forrest Q. Stevens,\"89.20785, -0.57186\",nulla.Integer@maurisipsumporta.ca,16974-448,Lac Ste. Anne\\n17.08.2020,1-883-604-1559,Gisela M. Banks,\"14.21796, 62.71378\",semper.rutrum.Fusce@Nullam.net,11319,Diego de Almagro\\n10.06.2020,1-660-827-2100,Demetrius H. Solomon,\"63.39257, -142.31014\",conubia.nostra.per@Nullamscelerisqueneque.edu,87453,Hulste\\n06.10.2020,1-705-389-5984,Rhoda V. Thornton,\"12.23557, -160.4698\",nec.eleifend.non@enim.co.uk,62623-64171,Seevetal\\n20.11.2020,1-788-931-7585,William N. Thompson,\"-35.82526, 134.59113\",nibh@Nullamsuscipit.net,57-080,BÃ¶blingen\\n27.04.2020,1-693-726-2073,Nathaniel R. Meadows,\"-21.19925, -111.38604\",elit.elit@sedfacilisis.ca,Z8137,Torquay\\n21.01.2019,1-733-737-3304,Kerry Y. Holman,\"-30.41505, -167.69919\",non.cursus@dignissimtemporarcu.co.uk,947358,Bajardo\\n09.09.2019,1-627-678-0692,Brooke Y. Jensen,\"25.17997, -172.71433\",et.libero@Sed.net,28964-40571,Tampa\\n09.05.2019,1-617-988-6159,Carl Y. Hart,\"-81.05365, 166.6208\",non.cursus.non@ridiculus.edu,08651-455,Villar Pellice\\n12.10.2020,1-738-577-3378,Yoko W. Conley,\"12.56792, 29.5851\",eget.odio.Aliquam@scelerisque.ca,70528,Osimo\\n29.10.2020,1-170-986-7969,Gisela E. Zamora,\"-17.71338, -80.47218\",Cras.dictum.ultricies@eu.com,62135-112,Banda Aceh\\n19.12.2020,1-862-824-1890,Emily S. Morales,\"6.50359, 30.07917\",rhoncus@elit.net,579173,Newtown\\n25.12.2020,1-468-714-5514,Reed W. Larsen,\"-68.94074, 119.03856\",quam.a@dolor.com,71432-91389,Bronnitsy\\n12.11.2020,1-493-308-8694,Cynthia U. Glass,\"-64.69129, 88.84348\",nulla.ante.iaculis@a.ca,214504,Buenaventura\\n23.11.2019,1-566-925-7389,Craig X. Vance,\"-69.0148, 165.22393\",ac.risus.Morbi@suscipitest.co.uk,76045,Borchtlombeek\\n04.01.2020,1-268-944-6965,Herrod U. Morrison,\"-66.76159, -40.28233\",velit@felis.net,443100,Castellina in Chianti\\n31.10.2019,1-659-705-2352,Martin J. Baird,\"25.43639, 31.62998\",ridiculus.mus.Aenean@molestiedapibus.net,7438,Tsiigehtchic\\n23.09.2019,1-721-839-8699,Sybil L. Craft,\"70.34742, 51.18031\",ipsum.primis.in@lorem.co.uk,85293,Vilna\\n14.09.2020,1-419-527-3995,Carl L. Middleton,\"25.1437, -96.72922\",congue.elit.sed@sapien.org,245861,Pontboset\\n29.01.2020,1-999-934-3635,Erich F. Mann,\"37.48213, -53.5339\",molestie.tortor@sitamet.edu,83472-452,Hertford\\n13.04.2020,1-192-663-4543,Teagan I. Webster,\"70.36436, 138.33781\",fames.ac@ligula.org,07570,Victoria\\n18.09.2019,1-187-105-6643,Dacey R. Wilson,\"-15.88582, -54.80389\",Quisque@velitSed.org,89030,Algarrobo\\n30.09.2020,1-340-750-6897,Berk M. Jordan,\"-19.95651, -102.64553\",Donec.tincidunt.Donec@anteblandit.com,33473,LamontzÅ½e\\n17.11.2020,1-153-403-8432,Ezekiel A. Sherman,\"-59.46452, -120.88989\",lorem.eget@euismod.edu,08875,Guelph\\n06.05.2019,1-334-364-7748,Castor O. Walter,\"28.8487, -38.76282\",orci@nuncnulla.edu,H0V 2J6,Gonda\\n04.02.2020,1-157-436-0796,Christine P. Keith,\"87.66421, 3.49884\",Curabitur.consequat.lectus@erat.edu,024292,Detroit\\n04.01.2021,1-244-155-5471,Gillian J. Gross,\"-38.86361, -70.91566\",et.magnis.dis@nisl.com,04257,Sint-Renelde Saintes\\n07.12.2019,1-826-267-3819,Tate X. Huff,\"39.79327, -88.76742\",volutpat@duisemperet.co.uk,2429,Bogor\\n05.03.2019,1-731-797-0418,April G. Pate,\"46.38718, 46.38781\",arcu.iaculis.enim@tortorInteger.co.uk,29017,Thame\\n14.07.2020,1-330-735-7005,Basia F. Alexander,\"-29.38123, 91.04625\",volutpat@anteMaecenasmi.edu,61770,Sommethonne\\n11.10.2020,1-576-416-3377,MacKensie N. Wilson,\"-5.52387, -61.69674\",tempor.diam.dictum@cubiliaCuraeDonec.co.uk,993668,Marche-les-Dames\\n14.04.2020,1-702-445-0164,Eleanor Y. Hill,\"58.28816, -134.60316\",Mauris.ut.quam@urnaconvalliserat.org,29-385,Toulouse\\n13.02.2020,1-440-983-5117,Pamela D. Kennedy,\"-0.38127, 104.42787\",a.mi.fringilla@ipsumprimis.ca,77322,Bois-de-Villers\\n10.03.2020,1-435-212-3143,Nichole S. Sullivan,\"76.95968, 75.43192\",Proin@Quisque.com,2636,Newport\\n11.09.2020,1-924-168-2772,Keefe Y. Hebert,\"-21.15394, 4.2894\",rutrum.non.hendrerit@apurus.ca,29518,Salamanca\\n30.08.2020,1-515-824-2566,Kyra N. Lindsey,\"75.91447, -136.4242\",vel@nasceturridiculusmus.net,732440,Plancenoit\\n31.05.2020,1-366-236-0827,Ifeoma W. Cantrell,\"54.42347, 110.36318\",vestibulum.nec@eu.ca,Z8651,Sint-Joost-ten-Node\\n16.05.2019,1-463-136-7413,Brett W. Ellison,\"24.87553, -40.27266\",ultrices.iaculis.odio@mipede.edu,39529,Opwijk\\n30.04.2020,1-754-488-2253,Phyllis P. Houston,\"42.5206, -87.48687\",lorem.sit@Mauris.edu,648777,Kakisa\\n09.06.2019,1-783-398-6839,Sonia L. Wagner,\"43.27127, 30.50554\",consectetuer.rhoncus@metus.edu,30215,Juan FernÃ¡ndez\\n10.05.2020,1-712-863-7901,Amery W. Ballard,\"-74.52083, 90.36652\",eget.metus@Proin.co.uk,461711,Ospedaletto Lodigiano\\n21.02.2019,1-884-596-2953,Paul R. Woods,\"-8.18776, 51.37251\",ante.ipsum@necluctus.ca,72-189,Cassaro\\n30.04.2019,1-419-232-7108,Myra A. Russo,\"-63.17778, -154.27882\",Etiam.gravida.molestie@vitaeposuereat.edu,5845 XU,Teodoro Schmidt\\n29.07.2019,1-734-670-7362,Colleen S. Marks,\"88.80091, 162.27777\",Phasellus.dapibus.quam@consequatnecmollis.net,422676,Tongrinne\\n05.11.2019,1-516-424-8147,Scott Y. Salinas,\"-62.06726, -65.46811\",luctus.Curabitur@eu.com,27798,Huppaye\\n21.12.2020,1-933-535-5660,Alfreda A. Moore,\"48.95176, 130.90851\",commodo.at.libero@nuncid.com,79-276,Rodengo/Rodeneck\\n14.01.2019,1-296-999-4680,Charles T. Lindsay,\"77.47632, -159.02314\",lectus@Integerid.org,01432,Kimberly\\n30.06.2020,1-905-270-1942,Bert G. Blair,\"30.52258, 71.47637\",at.sem.molestie@indolor.net,IM29 8EX,San Felice a Cancello\\n17.08.2020,1-484-337-4580,Plato O. Burgess,\"83.37789, -70.20963\",egestas.Duis@feugiatmetussit.ca,54780,Narbolia\\n08.12.2020,1-404-598-8404,Jamal L. Leon,\"-83.89639, -106.54687\",ipsum@turpis.com,0444,Auldearn\\n06.04.2019,1-669-894-7349,Chava S. Workman,\"1.80377, -43.1461\",habitant@nulla.ca,5695,New Galloway\\n04.01.2020,1-385-809-9586,Jolene K. Faulkner,\"84.59178, -41.70744\",semper.cursus.Integer@eueuismodac.net,60916,Devizes\\n31.12.2019,1-253-355-8549,Courtney W. Kerr,\"-37.4529, -130.57738\",nonummy.ac@mauris.com,00142,Nellore\\n11.09.2020,1-618-610-2856,Coby V. Christian,\"9.50853, -7.64751\",dui.in@sociisnatoque.org,71215,Trani\\n04.06.2020,1-610-348-5034,Logan K. Petersen,\"-55.38965, 119.39998\",Pellentesque@semperrutrumFusce.net,23445,Umerkot\\n22.08.2020,1-845-692-6193,Charlotte W. Jennings,\"35.12842, -7.53647\",luctus@gravidasitamet.com,Z7211,Aschersleben\\n29.01.2020,1-137-115-2953,Shana D. Marks,\"-77.38444, -65.65454\",adipiscing.fringilla.porttitor@Quisqueporttitor.co.uk,47797,Philadelphia\\n13.10.2019,1-194-290-8080,Cadman T. Mitchell,\"23.20457, -115.90137\",Aenean.eget.magna@ultrices.edu,25269,Badajoz\\n30.11.2020,1-649-397-7395,Pascale U. Wong,\"-69.78969, -78.71122\",eu.turpis.Nulla@justo.ca,754662,Dangjin\\n08.06.2020,1-205-868-6608,Martena V. Heath,\"18.59665, 127.54506\",ipsum.sodales.purus@sempercursusInteger.co.uk,27936,Saint-Quentin\\n29.07.2019,1-178-427-4737,Germane A. Parker,\"-54.89724, 105.65803\",mi.lorem@auctor.ca,127767,Schwedt\\n12.11.2019,1-364-540-6302,Mannix O. Reyes,\"79.972, -87.40092\",Duis@sit.edu,45247,St. Paul\\n09.07.2020,1-650-203-1719,Wynter E. Galloway,\"35.27071, 137.60057\",purus.accumsan@necmalesuada.co.uk,33134,Idaho Falls\\n10.02.2020,1-291-155-0181,Sybil H. Hines,\"80.86498, 42.72178\",metus.In.nec@facilisi.ca,S8W 1Z7,LÃ¶rrach\\n09.07.2019,1-746-240-8034,Grady G. Shelton,\"38.67297, -133.51202\",lobortis.Class@luctusut.net,89917,Hennigsdorf\\n23.03.2020,1-674-525-8540,Ria J. Wilson,\"74.93692, 70.46767\",mollis.Integer.tincidunt@ut.ca,65822-35076,Aiello Calabro\\n23.01.2019,1-112-523-5404,Darrel A. Rojas,\"-64.57208, -149.73866\",erat.volutpat@SedmolestieSed.co.uk,06279,East Jakarta\\n20.09.2020,1-128-503-9404,Jermaine B. Sexton,\"11.947, -79.33305\",lobortis.Class.aptent@porttitorvulputate.ca,89729,Annan\\n08.11.2020,1-904-424-8266,Erasmus X. Finley,\"67.8675, 30.81345\",id.libero.Donec@malesuadavelconvallis.net,06193,MÃ©rignac\\n03.02.2019,1-349-941-0735,Allen N. Noel,\"33.7464, -118.05116\",odio@porttitorscelerisque.com,95594,VilcÃºn\\n03.02.2019,1-408-166-4703,Elmo V. Page,\"32.3939, -69.68619\",sollicitudin@risus.edu,82419-29635,Newtonmore\\n27.10.2019,1-830-227-5876,Germane X. Ingram,\"34.24397, 1.14447\",Donec@imperdietnec.com,6975,GÃ¶ppingen\\n07.08.2019,1-305-546-8242,Tad P. Reilly,\"0.33915, 91.01438\",facilisis@liberodui.com,55476,Pictou\\n08.04.2020,1-276-169-7194,Lilah Z. Ratliff,\"-56.36237, -62.80281\",viverra.Donec.tempus@magnisdis.ca,381080,Trieste\\n07.10.2020,1-821-467-2365,Evan L. Murphy,\"-30.59229, 37.86276\",enim@arcu.edu,24610,Strongoli\\n14.01.2020,1-790-610-1419,Galena Y. Hoover,\"-8.52879, -88.61456\",eget.varius.ultrices@Quisqueornare.com,92-366,Margate'"
      ]
     },
     "execution_count": 75,
     "metadata": {},
     "output_type": "execute_result"
    }
   ],
   "source": [
    "q1"
   ]
  },
  {
   "cell_type": "code",
   "execution_count": 93,
   "metadata": {},
   "outputs": [
    {
     "name": "stdout",
     "output_type": "stream",
     "text": [
      "['Leslie H. Howard\t05.07.2020', 'Kyra T. Wynn\t06.11.2019', 'Darius G. Huff\t23.11.2020', 'Flynn M. Rodriguez\t07.05.2020', 'Damon K. Potts\t25.09.2020', 'Odessa U. Stewart\t30.12.2019', 'Ruby M. Noble\t04.03.2019', 'Hadassah W. Dale\t17.12.2020', 'Baker B. Francis\t24.02.2019', 'Cheyenne K. Dean\t25.09.2020', 'Kevyn E. Cox\t23.07.2019', 'Gregory P. Hatfield\t05.10.2019', 'Kylee J. Hoover\t29.03.2019', 'Flavia M. Pitts\t23.03.2019', 'Tamara V. Patrick\t02.12.2020', 'Byron T. Horne\t29.02.2020', 'Aubrey O. Barr\t07.07.2020', 'India M. Burton\t08.08.2020', 'Tatiana O. Sloan\t26.06.2020', 'Kirsten S. Wolf\t11.06.2020', 'Knox C. Farmer\t28.01.2019', 'Kieran P. Hendrix\t06.09.2019', 'Libby F. Mcmahon\t06.06.2019', 'Xanthus P. Long\t05.12.2020', 'Forrest Q. Stevens\t09.01.2019', 'Gisela M. Banks\t17.08.2020', 'Demetrius H. Solomon\t10.06.2020', 'Rhoda V. Thornton\t06.10.2020', 'William N. Thompson\t20.11.2020', 'Nathaniel R. Meadows\t27.04.2020', 'Kerry Y. Holman\t21.01.2019', 'Brooke Y. Jensen\t09.09.2019', 'Carl Y. Hart\t09.05.2019', 'Yoko W. Conley\t12.10.2020', 'Gisela E. Zamora\t29.10.2020', 'Emily S. Morales\t19.12.2020', 'Reed W. Larsen\t25.12.2020', 'Cynthia U. Glass\t12.11.2020', 'Craig X. Vance\t23.11.2019', 'Herrod U. Morrison\t04.01.2020', 'Martin J. Baird\t31.10.2019', 'Sybil L. Craft\t23.09.2019', 'Carl L. Middleton\t14.09.2020', 'Erich F. Mann\t29.01.2020', 'Teagan I. Webster\t13.04.2020', 'Dacey R. Wilson\t18.09.2019', 'Berk M. Jordan\t30.09.2020', 'Ezekiel A. Sherman\t17.11.2020', 'Castor O. Walter\t06.05.2019', 'Christine P. Keith\t04.02.2020', 'Gillian J. Gross\t04.01.2021', 'Tate X. Huff\t07.12.2019', 'April G. Pate\t05.03.2019', 'Basia F. Alexander\t14.07.2020', 'MacKensie N. Wilson\t11.10.2020', 'Eleanor Y. Hill\t14.04.2020', 'Pamela D. Kennedy\t13.02.2020', 'Nichole S. Sullivan\t10.03.2020', 'Keefe Y. Hebert\t11.09.2020', 'Kyra N. Lindsey\t30.08.2020', 'Ifeoma W. Cantrell\t31.05.2020', 'Brett W. Ellison\t16.05.2019', 'Phyllis P. Houston\t30.04.2020', 'Sonia L. Wagner\t09.06.2019', 'Amery W. Ballard\t10.05.2020', 'Paul R. Woods\t21.02.2019', 'Myra A. Russo\t30.04.2019', 'Colleen S. Marks\t29.07.2019', 'Scott Y. Salinas\t05.11.2019', 'Alfreda A. Moore\t21.12.2020', 'Charles T. Lindsay\t14.01.2019', 'Bert G. Blair\t30.06.2020', 'Plato O. Burgess\t17.08.2020', 'Jamal L. Leon\t08.12.2020', 'Chava S. Workman\t06.04.2019', 'Jolene K. Faulkner\t04.01.2020', 'Courtney W. Kerr\t31.12.2019', 'Coby V. Christian\t11.09.2020', 'Logan K. Petersen\t04.06.2020', 'Charlotte W. Jennings\t22.08.2020', 'Shana D. Marks\t29.01.2020', 'Cadman T. Mitchell\t13.10.2019', 'Pascale U. Wong\t30.11.2020', 'Martena V. Heath\t08.06.2020', 'Germane A. Parker\t29.07.2019', 'Mannix O. Reyes\t12.11.2019', 'Wynter E. Galloway\t09.07.2020', 'Sybil H. Hines\t10.02.2020', 'Grady G. Shelton\t09.07.2019', 'Ria J. Wilson\t23.03.2020', 'Darrel A. Rojas\t23.01.2019', 'Jermaine B. Sexton\t20.09.2020', 'Erasmus X. Finley\t08.11.2020', 'Allen N. Noel\t03.02.2019', 'Elmo V. Page\t03.02.2019', 'Germane X. Ingram\t27.10.2019', 'Tad P. Reilly\t07.08.2019', 'Lilah Z. Ratliff\t08.04.2020', 'Evan L. Murphy\t07.10.2020', 'Galena Y. Hoover\t14.01.2020']\n"
     ]
    }
   ],
   "source": [
    "#Part three\n",
    "#re.sub('([0-9]+\\.[0-9]+\\.[0-9]+)\\,[0-9]\\-[0-9]+\\-[0-9]+\\-[0-9]\\,([A-Za-z]+ [A-Z]\\. [A-Za-z]+)','\\\\1\\t\\\\2',q1)\n",
    "\n",
    "q3 = re.findall('[0-9]+\\.[0-9]+\\.[0-9]+\\,[0-9]\\-[0-9]+\\-[0-9]+\\-[0-9]+\\,[A-Za-z]+ [A-Z]\\. [A-Za-z]+',q1)\n",
    "\n",
    "print(re.sub('([0-9]+\\.[0-9]+\\.[0-9]+)(\\,[0-9]\\-[0-9]+\\-[0-9]+\\-[0-9]+\\,)([A-Za-z]+ [A-Z]\\. [A-Za-z]+)','\\\\3\\t\\\\1',str(q3)))"
   ]
  },
  {
   "cell_type": "code",
   "execution_count": 127,
   "metadata": {},
   "outputs": [
    {
     "data": {
      "text/plain": [
       "[('-80.7931', ' 157.73725'),\n",
       " ('-54.65661', ' 87.93458'),\n",
       " ('-56.23283', ' -116.1583'),\n",
       " ('50.02477', ' -93.02564'),\n",
       " ('34.94064', ' 91.87029'),\n",
       " ('41.01394', ' 96.36819'),\n",
       " ('75.21109', ' -148.67016'),\n",
       " ('32.72148', ' -122.01392'),\n",
       " ('36.06121', ' -68.27199'),\n",
       " ('56.5022', ' 151.02082'),\n",
       " ('89.15273', ' 46.41947'),\n",
       " ('-59.95322', ' 33.01087'),\n",
       " ('68.95134', ' 143.00006'),\n",
       " ('-84.49028', ' 134.95122'),\n",
       " ('39.99846', ' 63.55341'),\n",
       " ('32.49449', ' 100.66053'),\n",
       " ('-50.38051', ' 9.15288'),\n",
       " ('-62.94522', ' 156.80774'),\n",
       " ('28.70745', ' 24.95209'),\n",
       " ('-64.38445', ' -118.19839'),\n",
       " ('2.41655', ' 85.92271'),\n",
       " ('55.02022', ' 33.43453'),\n",
       " ('-39.34568', ' 0.14016'),\n",
       " ('58.72796', ' -131.54363'),\n",
       " ('89.20785', ' -0.57186'),\n",
       " ('14.21796', ' 62.71378'),\n",
       " ('63.39257', ' -142.31014'),\n",
       " ('12.23557', ' -160.4698'),\n",
       " ('-35.82526', ' 134.59113'),\n",
       " ('-21.19925', ' -111.38604'),\n",
       " ('-30.41505', ' -167.69919'),\n",
       " ('25.17997', ' -172.71433'),\n",
       " ('-81.05365', ' 166.6208'),\n",
       " ('12.56792', ' 29.5851'),\n",
       " ('-17.71338', ' -80.47218'),\n",
       " ('6.50359', ' 30.07917'),\n",
       " ('-68.94074', ' 119.03856'),\n",
       " ('-64.69129', ' 88.84348'),\n",
       " ('-69.0148', ' 165.22393'),\n",
       " ('-66.76159', ' -40.28233'),\n",
       " ('25.43639', ' 31.62998'),\n",
       " ('70.34742', ' 51.18031'),\n",
       " ('25.1437', ' -96.72922'),\n",
       " ('37.48213', ' -53.5339'),\n",
       " ('70.36436', ' 138.33781'),\n",
       " ('-15.88582', ' -54.80389'),\n",
       " ('-19.95651', ' -102.64553'),\n",
       " ('-59.46452', ' -120.88989'),\n",
       " ('28.8487', ' -38.76282'),\n",
       " ('87.66421', ' 3.49884'),\n",
       " ('-38.86361', ' -70.91566'),\n",
       " ('39.79327', ' -88.76742'),\n",
       " ('46.38718', ' 46.38781'),\n",
       " ('-29.38123', ' 91.04625'),\n",
       " ('-5.52387', ' -61.69674'),\n",
       " ('58.28816', ' -134.60316'),\n",
       " ('-0.38127', ' 104.42787'),\n",
       " ('76.95968', ' 75.43192'),\n",
       " ('-21.15394', ' 4.2894'),\n",
       " ('75.91447', ' -136.4242'),\n",
       " ('54.42347', ' 110.36318'),\n",
       " ('24.87553', ' -40.27266'),\n",
       " ('42.5206', ' -87.48687'),\n",
       " ('43.27127', ' 30.50554'),\n",
       " ('-74.52083', ' 90.36652'),\n",
       " ('-8.18776', ' 51.37251'),\n",
       " ('-63.17778', ' -154.27882'),\n",
       " ('88.80091', ' 162.27777'),\n",
       " ('-62.06726', ' -65.46811'),\n",
       " ('48.95176', ' 130.90851'),\n",
       " ('77.47632', ' -159.02314'),\n",
       " ('30.52258', ' 71.47637'),\n",
       " ('83.37789', ' -70.20963'),\n",
       " ('-83.89639', ' -106.54687'),\n",
       " ('1.80377', ' -43.1461'),\n",
       " ('84.59178', ' -41.70744'),\n",
       " ('-37.4529', ' -130.57738'),\n",
       " ('9.50853', ' -7.64751'),\n",
       " ('-55.38965', ' 119.39998'),\n",
       " ('35.12842', ' -7.53647'),\n",
       " ('-77.38444', ' -65.65454'),\n",
       " ('23.20457', ' -115.90137'),\n",
       " ('-69.78969', ' -78.71122'),\n",
       " ('18.59665', ' 127.54506'),\n",
       " ('-54.89724', ' 105.65803'),\n",
       " ('79.972', ' -87.40092'),\n",
       " ('35.27071', ' 137.60057'),\n",
       " ('80.86498', ' 42.72178'),\n",
       " ('38.67297', ' -133.51202'),\n",
       " ('74.93692', ' 70.46767'),\n",
       " ('-64.57208', ' -149.73866'),\n",
       " ('11.947', ' -79.33305'),\n",
       " ('67.8675', ' 30.81345'),\n",
       " ('33.7464', ' -118.05116'),\n",
       " ('32.3939', ' -69.68619'),\n",
       " ('34.24397', ' 1.14447'),\n",
       " ('0.33915', ' 91.01438'),\n",
       " ('-56.36237', ' -62.80281'),\n",
       " ('-30.59229', ' 37.86276'),\n",
       " ('-8.52879', ' -88.61456')]"
      ]
     },
     "execution_count": 127,
     "metadata": {},
     "output_type": "execute_result"
    }
   ],
   "source": [
    "q4"
   ]
  },
  {
   "cell_type": "code",
   "execution_count": 153,
   "metadata": {},
   "outputs": [
    {
     "data": {
      "text/plain": [
       "['-80.7931',\n",
       " '-54.65661',\n",
       " '-56.23283',\n",
       " '-116.1583',\n",
       " '-93.02564',\n",
       " '-148.67016',\n",
       " '-122.01392',\n",
       " '-68.27199',\n",
       " '-59.95322',\n",
       " '-84.49028',\n",
       " '-50.38051',\n",
       " '-62.94522',\n",
       " '-64.38445',\n",
       " '-118.19839',\n",
       " '-39.34568',\n",
       " '-131.54363',\n",
       " '-0.57186',\n",
       " '-142.31014',\n",
       " '-160.4698',\n",
       " '-35.82526',\n",
       " '-21.19925',\n",
       " '-111.38604',\n",
       " '-30.41505',\n",
       " '-167.69919',\n",
       " '-172.71433',\n",
       " '-81.05365',\n",
       " '-17.71338',\n",
       " '-80.47218',\n",
       " '-68.94074',\n",
       " '-64.69129',\n",
       " '-69.0148',\n",
       " '-66.76159',\n",
       " '-40.28233',\n",
       " '-96.72922',\n",
       " '-53.5339',\n",
       " '-15.88582',\n",
       " '-54.80389',\n",
       " '-19.95651',\n",
       " '-102.64553',\n",
       " '-59.46452',\n",
       " '-120.88989',\n",
       " '-38.76282',\n",
       " '-38.86361',\n",
       " '-70.91566',\n",
       " '-88.76742',\n",
       " '-29.38123',\n",
       " '-5.52387',\n",
       " '-61.69674',\n",
       " '-134.60316',\n",
       " '-0.38127',\n",
       " '-21.15394',\n",
       " '-136.4242',\n",
       " '-40.27266',\n",
       " '-87.48687',\n",
       " '-74.52083',\n",
       " '-8.18776',\n",
       " '-63.17778',\n",
       " '-154.27882',\n",
       " '-62.06726',\n",
       " '-65.46811',\n",
       " '-159.02314',\n",
       " '-70.20963',\n",
       " '-83.89639',\n",
       " '-106.54687',\n",
       " '-43.1461',\n",
       " '-41.70744',\n",
       " '-37.4529',\n",
       " '-130.57738',\n",
       " '-7.64751',\n",
       " '-55.38965',\n",
       " '-7.53647',\n",
       " '-77.38444',\n",
       " '-65.65454',\n",
       " '-115.90137',\n",
       " '-69.78969',\n",
       " '-78.71122',\n",
       " '-54.89724',\n",
       " '-87.40092',\n",
       " '-133.51202',\n",
       " '-64.57208',\n",
       " '-149.73866',\n",
       " '-79.33305',\n",
       " '-118.05116',\n",
       " '-69.68619',\n",
       " '-56.36237',\n",
       " '-62.80281',\n",
       " '-30.59229',\n",
       " '-8.52879',\n",
       " '-88.61456']"
      ]
     },
     "execution_count": 153,
     "metadata": {},
     "output_type": "execute_result"
    }
   ],
   "source": [
    "#Part Four\n",
    "#q4 = re.findall('\"(.+),(.+)\"',q1)\n",
    "#re.sub('(.+)(,)(.+)','\\\\3\\t\\\\1',str(q4))\n",
    "#print(re.sub('(.+)(,)(.+)','\\\\2\\t\\\\1',str(q4)))\n",
    "#re.findall('(.+),(.+)',str(q4))\n",
    "#re.sub('([-].+),([-].+)','\\\\2\\t\\\\1',str(q4))\n",
    "\n",
    "\n",
    "\n",
    "#print(re.sub('.+\"(.+),(.+)\".+','\\\\2\\t\\\\1',q1))\n",
    "q4 = re.findall('\"(.+),(.+)\"',q1)\n",
    "re.findall('[-][0-9]+\\.[0-9]+',str(q4))"
   ]
  },
  {
   "cell_type": "code",
   "execution_count": 4,
   "metadata": {},
   "outputs": [],
   "source": [
    "\n",
    "#Web-Scraping\n",
    "from bs4 import BeautifulSoup\n",
    "import requests\n",
    "import urllib.request\n",
    "import re\n",
    "url = 'http://www.usnews.com'\n",
    "headers = {\n",
    "            # pretend I am a browser\n",
    "            'User-Agent': 'Mozilla/5.0 (Windows NT 10.0; Win64; x64) AppleWebKit/537.36 (KHTML, like Gecko) Chrome/79.0.3945.88 Safari/537.36',\n",
    "            }\n",
    "session = requests.Session()\n",
    "response = session.get(url,headers=headers)\n",
    "html_soup = BeautifulSoup(response.text, 'html.parser')\n"
   ]
  },
  {
   "cell_type": "code",
   "execution_count": 5,
   "metadata": {},
   "outputs": [
    {
     "name": "stdout",
     "output_type": "stream",
     "text": [
      "https://www.usnews.com/news/healthiest-communities/articles/2020-01-08/drugs-now-on-par-with-economy-as-concerns-of-rural-america\n"
     ]
    }
   ],
   "source": [
    "topstory = html_soup.find_all('h3')\n",
    "second = topstory[5].a\n",
    "url = second.get('href')\n",
    "print(url)"
   ]
  },
  {
   "cell_type": "code",
   "execution_count": 7,
   "metadata": {},
   "outputs": [
    {
     "name": "stdout",
     "output_type": "stream",
     "text": [
      "Rural America's Drug Problem\n"
     ]
    }
   ],
   "source": [
    "headers = {\n",
    "            # pretend I am a browser\n",
    "            'User-Agent': 'Mozilla/5.0 (Windows NT 10.0; Win64; x64) AppleWebKit/537.36 (KHTML, like Gecko) Chrome/76.0.3809.87 Safari/537.36',\n",
    " }\n",
    "session = requests.Session()\n",
    "response = session.get(url,headers=headers)\n",
    "html_soup = BeautifulSoup(response.text, 'html.parser')\n",
    "html_soup\n",
    "\n",
    "title = second.text\n",
    "print(title)"
   ]
  },
  {
   "cell_type": "code",
   "execution_count": 20,
   "metadata": {},
   "outputs": [],
   "source": [
    "body = html_soup.findAll('div',attrs={'class':'Raw-s14xcvr1-0 AXWJq'})\n",
    "test = ''\n",
    "for x in range(len(body)):\n",
    " test = test + body[x].find('p').text"
   ]
  },
  {
   "cell_type": "code",
   "execution_count": 29,
   "metadata": {},
   "outputs": [
    {
     "name": "stdout",
     "output_type": "stream",
     "text": [
      "Rural Americans are as worried about drug addiction as they are economic conditions in their communities, new survey findings suggest.The polls, conducted in 2018 and 2019, surveyed about 2,700 people from rural communities across the U.S. – the majority of whom were white, didn't have a college degree and were older than 50.Asked as an open-ended question, 25% of adults listed opioid or other drug addiction as the \"most serious problem\" facing their community, while 21% said economic concerns – including job availability, poverty, businesses closing, cost of living and low wages – were the top issue.No other concern was reported by at least 10% of adults, according to the study, published Wednesday in JAMA Network Open.\"These findings suggest that in today's economically stretched rural United States, opioid or other drug addiction or abuse has emerged as an equal problem with economic concerns,\" study authors from the Harvard T.H.\n"
     ]
    }
   ],
   "source": [
    "#NLTK tokenize 找句子\n",
    "import nltk\n",
    "\n",
    "def splitSentence(paragraph):\n",
    "    tokenizer = nltk.data.load('tokenizers/punkt/english.pickle')\n",
    "    sentences = tokenizer.tokenize(paragraph)\n",
    "    return sentences\n",
    "firstthr = ''\n",
    "firstthr = splitSentence(test)[0]+splitSentence(test)[1]+splitSentence(test)[2]\n",
    "print(firstthr)"
   ]
  },
  {
   "cell_type": "code",
   "execution_count": null,
   "metadata": {},
   "outputs": [],
   "source": [
    "sp"
   ]
  }
 ],
 "metadata": {
  "kernelspec": {
   "display_name": "Python 3",
   "language": "python",
   "name": "python3"
  },
  "language_info": {
   "codemirror_mode": {
    "name": "ipython",
    "version": 3
   },
   "file_extension": ".py",
   "mimetype": "text/x-python",
   "name": "python",
   "nbconvert_exporter": "python",
   "pygments_lexer": "ipython3",
   "version": "3.7.6"
  }
 },
 "nbformat": 4,
 "nbformat_minor": 2
}
